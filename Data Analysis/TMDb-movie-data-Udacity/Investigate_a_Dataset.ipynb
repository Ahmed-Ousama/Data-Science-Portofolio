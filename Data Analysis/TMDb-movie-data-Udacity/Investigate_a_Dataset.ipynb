{
  "nbformat": 4,
  "nbformat_minor": 0,
  "metadata": {
    "colab": {
      "name": "Investigate_a_Dataset.ipynb",
      "provenance": [],
      "collapsed_sections": []
    },
    "kernelspec": {
      "name": "python3",
      "display_name": "Python 3"
    },
    "language_info": {
      "name": "python"
    }
  },
  "cells": [
    {
      "cell_type": "markdown",
      "source": [
        "## Table of Contents\n",
        "\n",
        "\n",
        "*   Introduction\n",
        "*   Importing important libraries\n",
        "*   Importing the data\n",
        "*   Exploring the data:\n",
        "\n",
        "   > Q1: Which genres are most popular from year to year?\n",
        "   \n",
        "   > Q2: let's calculate profits:\n",
        "   \n",
        "   > Q3: Which genres returns the most profits?\n",
        "   \n",
        "   > Q4: Are movies with high profits are the same with high reveneu?\n",
        "   \n",
        "   > Q5: let's get an info about the average runtime of movies:\n",
        "   \n",
        "   > Q6: let's see if there is a realtion between profits and releasing year:\n",
        "   \n",
        "   > Q1: Which genres are most popular from year to year?\n",
        "\n",
        "\n",
        "*   Conclusions\n",
        "\n",
        "\n",
        "\n",
        "\n",
        "\n",
        "\n"
      ],
      "metadata": {
        "id": "ZRbNkEAorwsL"
      }
    },
    {
      "cell_type": "markdown",
      "source": [
        "# **Introduction**\n",
        "##**Project: TMDb movie data**\n",
        "## Investigate a Dataset"
      ],
      "metadata": {
        "id": "YoJZbYZwhsvC"
      }
    },
    {
      "cell_type": "markdown",
      "source": [
        "#**Importing important libraries**"
      ],
      "metadata": {
        "id": "BnoFMhpMhEsv"
      }
    },
    {
      "cell_type": "code",
      "execution_count": 346,
      "metadata": {
        "id": "qq_6uy1IUq7A"
      },
      "outputs": [],
      "source": [
        "import pandas as pd\n",
        "import matplotlib.pyplot as plt\n",
        "% matplotlib inline\n",
        "import seaborn as sns \n",
        "import numpy as np \n",
        "import plotly.express as px"
      ]
    },
    {
      "cell_type": "markdown",
      "source": [
        "#**Importing the data**"
      ],
      "metadata": {
        "id": "PAatWxQXhmsn"
      }
    },
    {
      "cell_type": "code",
      "source": [
        "df= pd.read_csv('tmdb-movies.csv')"
      ],
      "metadata": {
        "id": "34Enr93kVO4W"
      },
      "execution_count": 347,
      "outputs": []
    },
    {
      "cell_type": "markdown",
      "source": [
        "#**Exploring the data**\n",
        "### General Properties"
      ],
      "metadata": {
        "id": "bMXsW9vkg9d0"
      }
    },
    {
      "cell_type": "code",
      "source": [
        "df.head(1)"
      ],
      "metadata": {
        "colab": {
          "base_uri": "https://localhost:8080/",
          "height": 231
        },
        "id": "6ivgruuVh0sF",
        "outputId": "0e7c672d-7216-4a31-ae68-93bccccae008"
      },
      "execution_count": 348,
      "outputs": [
        {
          "output_type": "execute_result",
          "data": {
            "text/html": [
              "\n",
              "  <div id=\"df-a628387e-047c-4e41-ad0f-08a727577c0b\">\n",
              "    <div class=\"colab-df-container\">\n",
              "      <div>\n",
              "<style scoped>\n",
              "    .dataframe tbody tr th:only-of-type {\n",
              "        vertical-align: middle;\n",
              "    }\n",
              "\n",
              "    .dataframe tbody tr th {\n",
              "        vertical-align: top;\n",
              "    }\n",
              "\n",
              "    .dataframe thead th {\n",
              "        text-align: right;\n",
              "    }\n",
              "</style>\n",
              "<table border=\"1\" class=\"dataframe\">\n",
              "  <thead>\n",
              "    <tr style=\"text-align: right;\">\n",
              "      <th></th>\n",
              "      <th>id</th>\n",
              "      <th>imdb_id</th>\n",
              "      <th>popularity</th>\n",
              "      <th>budget</th>\n",
              "      <th>revenue</th>\n",
              "      <th>original_title</th>\n",
              "      <th>cast</th>\n",
              "      <th>homepage</th>\n",
              "      <th>director</th>\n",
              "      <th>tagline</th>\n",
              "      <th>keywords</th>\n",
              "      <th>overview</th>\n",
              "      <th>runtime</th>\n",
              "      <th>genres</th>\n",
              "      <th>production_companies</th>\n",
              "      <th>release_date</th>\n",
              "      <th>vote_count</th>\n",
              "      <th>vote_average</th>\n",
              "      <th>release_year</th>\n",
              "      <th>budget_adj</th>\n",
              "      <th>revenue_adj</th>\n",
              "    </tr>\n",
              "  </thead>\n",
              "  <tbody>\n",
              "    <tr>\n",
              "      <th>0</th>\n",
              "      <td>135397</td>\n",
              "      <td>tt0369610</td>\n",
              "      <td>32.985763</td>\n",
              "      <td>150000000</td>\n",
              "      <td>1513528810</td>\n",
              "      <td>Jurassic World</td>\n",
              "      <td>Chris Pratt|Bryce Dallas Howard|Irrfan Khan|Vi...</td>\n",
              "      <td>http://www.jurassicworld.com/</td>\n",
              "      <td>Colin Trevorrow</td>\n",
              "      <td>The park is open.</td>\n",
              "      <td>monster|dna|tyrannosaurus rex|velociraptor|island</td>\n",
              "      <td>Twenty-two years after the events of Jurassic ...</td>\n",
              "      <td>124</td>\n",
              "      <td>Action|Adventure|Science Fiction|Thriller</td>\n",
              "      <td>Universal Studios|Amblin Entertainment|Legenda...</td>\n",
              "      <td>6/9/15</td>\n",
              "      <td>5562</td>\n",
              "      <td>6.5</td>\n",
              "      <td>2015</td>\n",
              "      <td>1.379999e+08</td>\n",
              "      <td>1.392446e+09</td>\n",
              "    </tr>\n",
              "  </tbody>\n",
              "</table>\n",
              "</div>\n",
              "      <button class=\"colab-df-convert\" onclick=\"convertToInteractive('df-a628387e-047c-4e41-ad0f-08a727577c0b')\"\n",
              "              title=\"Convert this dataframe to an interactive table.\"\n",
              "              style=\"display:none;\">\n",
              "        \n",
              "  <svg xmlns=\"http://www.w3.org/2000/svg\" height=\"24px\"viewBox=\"0 0 24 24\"\n",
              "       width=\"24px\">\n",
              "    <path d=\"M0 0h24v24H0V0z\" fill=\"none\"/>\n",
              "    <path d=\"M18.56 5.44l.94 2.06.94-2.06 2.06-.94-2.06-.94-.94-2.06-.94 2.06-2.06.94zm-11 1L8.5 8.5l.94-2.06 2.06-.94-2.06-.94L8.5 2.5l-.94 2.06-2.06.94zm10 10l.94 2.06.94-2.06 2.06-.94-2.06-.94-.94-2.06-.94 2.06-2.06.94z\"/><path d=\"M17.41 7.96l-1.37-1.37c-.4-.4-.92-.59-1.43-.59-.52 0-1.04.2-1.43.59L10.3 9.45l-7.72 7.72c-.78.78-.78 2.05 0 2.83L4 21.41c.39.39.9.59 1.41.59.51 0 1.02-.2 1.41-.59l7.78-7.78 2.81-2.81c.8-.78.8-2.07 0-2.86zM5.41 20L4 18.59l7.72-7.72 1.47 1.35L5.41 20z\"/>\n",
              "  </svg>\n",
              "      </button>\n",
              "      \n",
              "  <style>\n",
              "    .colab-df-container {\n",
              "      display:flex;\n",
              "      flex-wrap:wrap;\n",
              "      gap: 12px;\n",
              "    }\n",
              "\n",
              "    .colab-df-convert {\n",
              "      background-color: #E8F0FE;\n",
              "      border: none;\n",
              "      border-radius: 50%;\n",
              "      cursor: pointer;\n",
              "      display: none;\n",
              "      fill: #1967D2;\n",
              "      height: 32px;\n",
              "      padding: 0 0 0 0;\n",
              "      width: 32px;\n",
              "    }\n",
              "\n",
              "    .colab-df-convert:hover {\n",
              "      background-color: #E2EBFA;\n",
              "      box-shadow: 0px 1px 2px rgba(60, 64, 67, 0.3), 0px 1px 3px 1px rgba(60, 64, 67, 0.15);\n",
              "      fill: #174EA6;\n",
              "    }\n",
              "\n",
              "    [theme=dark] .colab-df-convert {\n",
              "      background-color: #3B4455;\n",
              "      fill: #D2E3FC;\n",
              "    }\n",
              "\n",
              "    [theme=dark] .colab-df-convert:hover {\n",
              "      background-color: #434B5C;\n",
              "      box-shadow: 0px 1px 3px 1px rgba(0, 0, 0, 0.15);\n",
              "      filter: drop-shadow(0px 1px 2px rgba(0, 0, 0, 0.3));\n",
              "      fill: #FFFFFF;\n",
              "    }\n",
              "  </style>\n",
              "\n",
              "      <script>\n",
              "        const buttonEl =\n",
              "          document.querySelector('#df-a628387e-047c-4e41-ad0f-08a727577c0b button.colab-df-convert');\n",
              "        buttonEl.style.display =\n",
              "          google.colab.kernel.accessAllowed ? 'block' : 'none';\n",
              "\n",
              "        async function convertToInteractive(key) {\n",
              "          const element = document.querySelector('#df-a628387e-047c-4e41-ad0f-08a727577c0b');\n",
              "          const dataTable =\n",
              "            await google.colab.kernel.invokeFunction('convertToInteractive',\n",
              "                                                     [key], {});\n",
              "          if (!dataTable) return;\n",
              "\n",
              "          const docLinkHtml = 'Like what you see? Visit the ' +\n",
              "            '<a target=\"_blank\" href=https://colab.research.google.com/notebooks/data_table.ipynb>data table notebook</a>'\n",
              "            + ' to learn more about interactive tables.';\n",
              "          element.innerHTML = '';\n",
              "          dataTable['output_type'] = 'display_data';\n",
              "          await google.colab.output.renderOutput(dataTable, element);\n",
              "          const docLink = document.createElement('div');\n",
              "          docLink.innerHTML = docLinkHtml;\n",
              "          element.appendChild(docLink);\n",
              "        }\n",
              "      </script>\n",
              "    </div>\n",
              "  </div>\n",
              "  "
            ],
            "text/plain": [
              "       id    imdb_id  popularity  ...  release_year    budget_adj   revenue_adj\n",
              "0  135397  tt0369610   32.985763  ...          2015  1.379999e+08  1.392446e+09\n",
              "\n",
              "[1 rows x 21 columns]"
            ]
          },
          "metadata": {},
          "execution_count": 348
        }
      ]
    },
    {
      "cell_type": "code",
      "source": [
        "df.shape"
      ],
      "metadata": {
        "colab": {
          "base_uri": "https://localhost:8080/"
        },
        "id": "PjLxzvxWlgRs",
        "outputId": "4af954ae-bb54-4bcb-8f38-1b681f968836"
      },
      "execution_count": 349,
      "outputs": [
        {
          "output_type": "execute_result",
          "data": {
            "text/plain": [
              "(10866, 21)"
            ]
          },
          "metadata": {},
          "execution_count": 349
        }
      ]
    },
    {
      "cell_type": "code",
      "source": [
        "df.describe()"
      ],
      "metadata": {
        "colab": {
          "base_uri": "https://localhost:8080/",
          "height": 300
        },
        "id": "BDzCp8hMllS6",
        "outputId": "02cbc958-01c2-41e1-c2ae-4042bef2eb92"
      },
      "execution_count": 350,
      "outputs": [
        {
          "output_type": "execute_result",
          "data": {
            "text/html": [
              "\n",
              "  <div id=\"df-aa485d94-074e-4c0d-9be4-c9e79ddb8dd8\">\n",
              "    <div class=\"colab-df-container\">\n",
              "      <div>\n",
              "<style scoped>\n",
              "    .dataframe tbody tr th:only-of-type {\n",
              "        vertical-align: middle;\n",
              "    }\n",
              "\n",
              "    .dataframe tbody tr th {\n",
              "        vertical-align: top;\n",
              "    }\n",
              "\n",
              "    .dataframe thead th {\n",
              "        text-align: right;\n",
              "    }\n",
              "</style>\n",
              "<table border=\"1\" class=\"dataframe\">\n",
              "  <thead>\n",
              "    <tr style=\"text-align: right;\">\n",
              "      <th></th>\n",
              "      <th>id</th>\n",
              "      <th>popularity</th>\n",
              "      <th>budget</th>\n",
              "      <th>revenue</th>\n",
              "      <th>runtime</th>\n",
              "      <th>vote_count</th>\n",
              "      <th>vote_average</th>\n",
              "      <th>release_year</th>\n",
              "      <th>budget_adj</th>\n",
              "      <th>revenue_adj</th>\n",
              "    </tr>\n",
              "  </thead>\n",
              "  <tbody>\n",
              "    <tr>\n",
              "      <th>count</th>\n",
              "      <td>10866.000000</td>\n",
              "      <td>10866.000000</td>\n",
              "      <td>1.086600e+04</td>\n",
              "      <td>1.086600e+04</td>\n",
              "      <td>10866.000000</td>\n",
              "      <td>10866.000000</td>\n",
              "      <td>10866.000000</td>\n",
              "      <td>10866.000000</td>\n",
              "      <td>1.086600e+04</td>\n",
              "      <td>1.086600e+04</td>\n",
              "    </tr>\n",
              "    <tr>\n",
              "      <th>mean</th>\n",
              "      <td>66064.177434</td>\n",
              "      <td>0.646441</td>\n",
              "      <td>1.462570e+07</td>\n",
              "      <td>3.982332e+07</td>\n",
              "      <td>102.070863</td>\n",
              "      <td>217.389748</td>\n",
              "      <td>5.974922</td>\n",
              "      <td>2001.322658</td>\n",
              "      <td>1.755104e+07</td>\n",
              "      <td>5.136436e+07</td>\n",
              "    </tr>\n",
              "    <tr>\n",
              "      <th>std</th>\n",
              "      <td>92130.136561</td>\n",
              "      <td>1.000185</td>\n",
              "      <td>3.091321e+07</td>\n",
              "      <td>1.170035e+08</td>\n",
              "      <td>31.381405</td>\n",
              "      <td>575.619058</td>\n",
              "      <td>0.935142</td>\n",
              "      <td>12.812941</td>\n",
              "      <td>3.430616e+07</td>\n",
              "      <td>1.446325e+08</td>\n",
              "    </tr>\n",
              "    <tr>\n",
              "      <th>min</th>\n",
              "      <td>5.000000</td>\n",
              "      <td>0.000065</td>\n",
              "      <td>0.000000e+00</td>\n",
              "      <td>0.000000e+00</td>\n",
              "      <td>0.000000</td>\n",
              "      <td>10.000000</td>\n",
              "      <td>1.500000</td>\n",
              "      <td>1960.000000</td>\n",
              "      <td>0.000000e+00</td>\n",
              "      <td>0.000000e+00</td>\n",
              "    </tr>\n",
              "    <tr>\n",
              "      <th>25%</th>\n",
              "      <td>10596.250000</td>\n",
              "      <td>0.207583</td>\n",
              "      <td>0.000000e+00</td>\n",
              "      <td>0.000000e+00</td>\n",
              "      <td>90.000000</td>\n",
              "      <td>17.000000</td>\n",
              "      <td>5.400000</td>\n",
              "      <td>1995.000000</td>\n",
              "      <td>0.000000e+00</td>\n",
              "      <td>0.000000e+00</td>\n",
              "    </tr>\n",
              "    <tr>\n",
              "      <th>50%</th>\n",
              "      <td>20669.000000</td>\n",
              "      <td>0.383856</td>\n",
              "      <td>0.000000e+00</td>\n",
              "      <td>0.000000e+00</td>\n",
              "      <td>99.000000</td>\n",
              "      <td>38.000000</td>\n",
              "      <td>6.000000</td>\n",
              "      <td>2006.000000</td>\n",
              "      <td>0.000000e+00</td>\n",
              "      <td>0.000000e+00</td>\n",
              "    </tr>\n",
              "    <tr>\n",
              "      <th>75%</th>\n",
              "      <td>75610.000000</td>\n",
              "      <td>0.713817</td>\n",
              "      <td>1.500000e+07</td>\n",
              "      <td>2.400000e+07</td>\n",
              "      <td>111.000000</td>\n",
              "      <td>145.750000</td>\n",
              "      <td>6.600000</td>\n",
              "      <td>2011.000000</td>\n",
              "      <td>2.085325e+07</td>\n",
              "      <td>3.369710e+07</td>\n",
              "    </tr>\n",
              "    <tr>\n",
              "      <th>max</th>\n",
              "      <td>417859.000000</td>\n",
              "      <td>32.985763</td>\n",
              "      <td>4.250000e+08</td>\n",
              "      <td>2.781506e+09</td>\n",
              "      <td>900.000000</td>\n",
              "      <td>9767.000000</td>\n",
              "      <td>9.200000</td>\n",
              "      <td>2015.000000</td>\n",
              "      <td>4.250000e+08</td>\n",
              "      <td>2.827124e+09</td>\n",
              "    </tr>\n",
              "  </tbody>\n",
              "</table>\n",
              "</div>\n",
              "      <button class=\"colab-df-convert\" onclick=\"convertToInteractive('df-aa485d94-074e-4c0d-9be4-c9e79ddb8dd8')\"\n",
              "              title=\"Convert this dataframe to an interactive table.\"\n",
              "              style=\"display:none;\">\n",
              "        \n",
              "  <svg xmlns=\"http://www.w3.org/2000/svg\" height=\"24px\"viewBox=\"0 0 24 24\"\n",
              "       width=\"24px\">\n",
              "    <path d=\"M0 0h24v24H0V0z\" fill=\"none\"/>\n",
              "    <path d=\"M18.56 5.44l.94 2.06.94-2.06 2.06-.94-2.06-.94-.94-2.06-.94 2.06-2.06.94zm-11 1L8.5 8.5l.94-2.06 2.06-.94-2.06-.94L8.5 2.5l-.94 2.06-2.06.94zm10 10l.94 2.06.94-2.06 2.06-.94-2.06-.94-.94-2.06-.94 2.06-2.06.94z\"/><path d=\"M17.41 7.96l-1.37-1.37c-.4-.4-.92-.59-1.43-.59-.52 0-1.04.2-1.43.59L10.3 9.45l-7.72 7.72c-.78.78-.78 2.05 0 2.83L4 21.41c.39.39.9.59 1.41.59.51 0 1.02-.2 1.41-.59l7.78-7.78 2.81-2.81c.8-.78.8-2.07 0-2.86zM5.41 20L4 18.59l7.72-7.72 1.47 1.35L5.41 20z\"/>\n",
              "  </svg>\n",
              "      </button>\n",
              "      \n",
              "  <style>\n",
              "    .colab-df-container {\n",
              "      display:flex;\n",
              "      flex-wrap:wrap;\n",
              "      gap: 12px;\n",
              "    }\n",
              "\n",
              "    .colab-df-convert {\n",
              "      background-color: #E8F0FE;\n",
              "      border: none;\n",
              "      border-radius: 50%;\n",
              "      cursor: pointer;\n",
              "      display: none;\n",
              "      fill: #1967D2;\n",
              "      height: 32px;\n",
              "      padding: 0 0 0 0;\n",
              "      width: 32px;\n",
              "    }\n",
              "\n",
              "    .colab-df-convert:hover {\n",
              "      background-color: #E2EBFA;\n",
              "      box-shadow: 0px 1px 2px rgba(60, 64, 67, 0.3), 0px 1px 3px 1px rgba(60, 64, 67, 0.15);\n",
              "      fill: #174EA6;\n",
              "    }\n",
              "\n",
              "    [theme=dark] .colab-df-convert {\n",
              "      background-color: #3B4455;\n",
              "      fill: #D2E3FC;\n",
              "    }\n",
              "\n",
              "    [theme=dark] .colab-df-convert:hover {\n",
              "      background-color: #434B5C;\n",
              "      box-shadow: 0px 1px 3px 1px rgba(0, 0, 0, 0.15);\n",
              "      filter: drop-shadow(0px 1px 2px rgba(0, 0, 0, 0.3));\n",
              "      fill: #FFFFFF;\n",
              "    }\n",
              "  </style>\n",
              "\n",
              "      <script>\n",
              "        const buttonEl =\n",
              "          document.querySelector('#df-aa485d94-074e-4c0d-9be4-c9e79ddb8dd8 button.colab-df-convert');\n",
              "        buttonEl.style.display =\n",
              "          google.colab.kernel.accessAllowed ? 'block' : 'none';\n",
              "\n",
              "        async function convertToInteractive(key) {\n",
              "          const element = document.querySelector('#df-aa485d94-074e-4c0d-9be4-c9e79ddb8dd8');\n",
              "          const dataTable =\n",
              "            await google.colab.kernel.invokeFunction('convertToInteractive',\n",
              "                                                     [key], {});\n",
              "          if (!dataTable) return;\n",
              "\n",
              "          const docLinkHtml = 'Like what you see? Visit the ' +\n",
              "            '<a target=\"_blank\" href=https://colab.research.google.com/notebooks/data_table.ipynb>data table notebook</a>'\n",
              "            + ' to learn more about interactive tables.';\n",
              "          element.innerHTML = '';\n",
              "          dataTable['output_type'] = 'display_data';\n",
              "          await google.colab.output.renderOutput(dataTable, element);\n",
              "          const docLink = document.createElement('div');\n",
              "          docLink.innerHTML = docLinkHtml;\n",
              "          element.appendChild(docLink);\n",
              "        }\n",
              "      </script>\n",
              "    </div>\n",
              "  </div>\n",
              "  "
            ],
            "text/plain": [
              "                  id    popularity  ...    budget_adj   revenue_adj\n",
              "count   10866.000000  10866.000000  ...  1.086600e+04  1.086600e+04\n",
              "mean    66064.177434      0.646441  ...  1.755104e+07  5.136436e+07\n",
              "std     92130.136561      1.000185  ...  3.430616e+07  1.446325e+08\n",
              "min         5.000000      0.000065  ...  0.000000e+00  0.000000e+00\n",
              "25%     10596.250000      0.207583  ...  0.000000e+00  0.000000e+00\n",
              "50%     20669.000000      0.383856  ...  0.000000e+00  0.000000e+00\n",
              "75%     75610.000000      0.713817  ...  2.085325e+07  3.369710e+07\n",
              "max    417859.000000     32.985763  ...  4.250000e+08  2.827124e+09\n",
              "\n",
              "[8 rows x 10 columns]"
            ]
          },
          "metadata": {},
          "execution_count": 350
        }
      ]
    },
    {
      "cell_type": "markdown",
      "source": [
        "#**Data cleaning**\n",
        "### Data Cleaning"
      ],
      "metadata": {
        "id": "-tB-qbXrgd6k"
      }
    },
    {
      "cell_type": "code",
      "source": [
        "df.tail(1)"
      ],
      "metadata": {
        "colab": {
          "base_uri": "https://localhost:8080/",
          "height": 231
        },
        "id": "gt98Y4xCV0ku",
        "outputId": "267ddac3-557d-4659-fdcd-d0ed08ca4170"
      },
      "execution_count": 351,
      "outputs": [
        {
          "output_type": "execute_result",
          "data": {
            "text/html": [
              "\n",
              "  <div id=\"df-deebe30b-41e6-4b01-9fee-b97f119b3c35\">\n",
              "    <div class=\"colab-df-container\">\n",
              "      <div>\n",
              "<style scoped>\n",
              "    .dataframe tbody tr th:only-of-type {\n",
              "        vertical-align: middle;\n",
              "    }\n",
              "\n",
              "    .dataframe tbody tr th {\n",
              "        vertical-align: top;\n",
              "    }\n",
              "\n",
              "    .dataframe thead th {\n",
              "        text-align: right;\n",
              "    }\n",
              "</style>\n",
              "<table border=\"1\" class=\"dataframe\">\n",
              "  <thead>\n",
              "    <tr style=\"text-align: right;\">\n",
              "      <th></th>\n",
              "      <th>id</th>\n",
              "      <th>imdb_id</th>\n",
              "      <th>popularity</th>\n",
              "      <th>budget</th>\n",
              "      <th>revenue</th>\n",
              "      <th>original_title</th>\n",
              "      <th>cast</th>\n",
              "      <th>homepage</th>\n",
              "      <th>director</th>\n",
              "      <th>tagline</th>\n",
              "      <th>keywords</th>\n",
              "      <th>overview</th>\n",
              "      <th>runtime</th>\n",
              "      <th>genres</th>\n",
              "      <th>production_companies</th>\n",
              "      <th>release_date</th>\n",
              "      <th>vote_count</th>\n",
              "      <th>vote_average</th>\n",
              "      <th>release_year</th>\n",
              "      <th>budget_adj</th>\n",
              "      <th>revenue_adj</th>\n",
              "    </tr>\n",
              "  </thead>\n",
              "  <tbody>\n",
              "    <tr>\n",
              "      <th>10865</th>\n",
              "      <td>22293</td>\n",
              "      <td>tt0060666</td>\n",
              "      <td>0.035919</td>\n",
              "      <td>19000</td>\n",
              "      <td>0</td>\n",
              "      <td>Manos: The Hands of Fate</td>\n",
              "      <td>Harold P. Warren|Tom Neyman|John Reynolds|Dian...</td>\n",
              "      <td>NaN</td>\n",
              "      <td>Harold P. Warren</td>\n",
              "      <td>It's Shocking! It's Beyond Your Imagination!</td>\n",
              "      <td>fire|gun|drive|sacrifice|flashlight</td>\n",
              "      <td>A family gets lost on the road and stumbles up...</td>\n",
              "      <td>74</td>\n",
              "      <td>Horror</td>\n",
              "      <td>Norm-Iris</td>\n",
              "      <td>11/15/66</td>\n",
              "      <td>15</td>\n",
              "      <td>1.5</td>\n",
              "      <td>1966</td>\n",
              "      <td>127642.279154</td>\n",
              "      <td>0.0</td>\n",
              "    </tr>\n",
              "  </tbody>\n",
              "</table>\n",
              "</div>\n",
              "      <button class=\"colab-df-convert\" onclick=\"convertToInteractive('df-deebe30b-41e6-4b01-9fee-b97f119b3c35')\"\n",
              "              title=\"Convert this dataframe to an interactive table.\"\n",
              "              style=\"display:none;\">\n",
              "        \n",
              "  <svg xmlns=\"http://www.w3.org/2000/svg\" height=\"24px\"viewBox=\"0 0 24 24\"\n",
              "       width=\"24px\">\n",
              "    <path d=\"M0 0h24v24H0V0z\" fill=\"none\"/>\n",
              "    <path d=\"M18.56 5.44l.94 2.06.94-2.06 2.06-.94-2.06-.94-.94-2.06-.94 2.06-2.06.94zm-11 1L8.5 8.5l.94-2.06 2.06-.94-2.06-.94L8.5 2.5l-.94 2.06-2.06.94zm10 10l.94 2.06.94-2.06 2.06-.94-2.06-.94-.94-2.06-.94 2.06-2.06.94z\"/><path d=\"M17.41 7.96l-1.37-1.37c-.4-.4-.92-.59-1.43-.59-.52 0-1.04.2-1.43.59L10.3 9.45l-7.72 7.72c-.78.78-.78 2.05 0 2.83L4 21.41c.39.39.9.59 1.41.59.51 0 1.02-.2 1.41-.59l7.78-7.78 2.81-2.81c.8-.78.8-2.07 0-2.86zM5.41 20L4 18.59l7.72-7.72 1.47 1.35L5.41 20z\"/>\n",
              "  </svg>\n",
              "      </button>\n",
              "      \n",
              "  <style>\n",
              "    .colab-df-container {\n",
              "      display:flex;\n",
              "      flex-wrap:wrap;\n",
              "      gap: 12px;\n",
              "    }\n",
              "\n",
              "    .colab-df-convert {\n",
              "      background-color: #E8F0FE;\n",
              "      border: none;\n",
              "      border-radius: 50%;\n",
              "      cursor: pointer;\n",
              "      display: none;\n",
              "      fill: #1967D2;\n",
              "      height: 32px;\n",
              "      padding: 0 0 0 0;\n",
              "      width: 32px;\n",
              "    }\n",
              "\n",
              "    .colab-df-convert:hover {\n",
              "      background-color: #E2EBFA;\n",
              "      box-shadow: 0px 1px 2px rgba(60, 64, 67, 0.3), 0px 1px 3px 1px rgba(60, 64, 67, 0.15);\n",
              "      fill: #174EA6;\n",
              "    }\n",
              "\n",
              "    [theme=dark] .colab-df-convert {\n",
              "      background-color: #3B4455;\n",
              "      fill: #D2E3FC;\n",
              "    }\n",
              "\n",
              "    [theme=dark] .colab-df-convert:hover {\n",
              "      background-color: #434B5C;\n",
              "      box-shadow: 0px 1px 3px 1px rgba(0, 0, 0, 0.15);\n",
              "      filter: drop-shadow(0px 1px 2px rgba(0, 0, 0, 0.3));\n",
              "      fill: #FFFFFF;\n",
              "    }\n",
              "  </style>\n",
              "\n",
              "      <script>\n",
              "        const buttonEl =\n",
              "          document.querySelector('#df-deebe30b-41e6-4b01-9fee-b97f119b3c35 button.colab-df-convert');\n",
              "        buttonEl.style.display =\n",
              "          google.colab.kernel.accessAllowed ? 'block' : 'none';\n",
              "\n",
              "        async function convertToInteractive(key) {\n",
              "          const element = document.querySelector('#df-deebe30b-41e6-4b01-9fee-b97f119b3c35');\n",
              "          const dataTable =\n",
              "            await google.colab.kernel.invokeFunction('convertToInteractive',\n",
              "                                                     [key], {});\n",
              "          if (!dataTable) return;\n",
              "\n",
              "          const docLinkHtml = 'Like what you see? Visit the ' +\n",
              "            '<a target=\"_blank\" href=https://colab.research.google.com/notebooks/data_table.ipynb>data table notebook</a>'\n",
              "            + ' to learn more about interactive tables.';\n",
              "          element.innerHTML = '';\n",
              "          dataTable['output_type'] = 'display_data';\n",
              "          await google.colab.output.renderOutput(dataTable, element);\n",
              "          const docLink = document.createElement('div');\n",
              "          docLink.innerHTML = docLinkHtml;\n",
              "          element.appendChild(docLink);\n",
              "        }\n",
              "      </script>\n",
              "    </div>\n",
              "  </div>\n",
              "  "
            ],
            "text/plain": [
              "          id    imdb_id  popularity  ...  release_year     budget_adj revenue_adj\n",
              "10865  22293  tt0060666    0.035919  ...          1966  127642.279154         0.0\n",
              "\n",
              "[1 rows x 21 columns]"
            ]
          },
          "metadata": {},
          "execution_count": 351
        }
      ]
    },
    {
      "cell_type": "code",
      "source": [
        "df.dtypes"
      ],
      "metadata": {
        "colab": {
          "base_uri": "https://localhost:8080/"
        },
        "id": "17RQ50e0VTUY",
        "outputId": "3fb97240-c067-4e67-bbd0-610a78ecc5a4"
      },
      "execution_count": 352,
      "outputs": [
        {
          "output_type": "execute_result",
          "data": {
            "text/plain": [
              "id                        int64\n",
              "imdb_id                  object\n",
              "popularity              float64\n",
              "budget                    int64\n",
              "revenue                   int64\n",
              "original_title           object\n",
              "cast                     object\n",
              "homepage                 object\n",
              "director                 object\n",
              "tagline                  object\n",
              "keywords                 object\n",
              "overview                 object\n",
              "runtime                   int64\n",
              "genres                   object\n",
              "production_companies     object\n",
              "release_date             object\n",
              "vote_count                int64\n",
              "vote_average            float64\n",
              "release_year              int64\n",
              "budget_adj              float64\n",
              "revenue_adj             float64\n",
              "dtype: object"
            ]
          },
          "metadata": {},
          "execution_count": 352
        }
      ]
    },
    {
      "cell_type": "markdown",
      "source": [
        "There are some columns which don't have the suitable type so we have to define each column type in a dictionary and plug this dict into dtype function and we have a date column which is release_date which should be pasred using parse_dates function"
      ],
      "metadata": {
        "id": "1nHqKJOyQbE6"
      }
    },
    {
      "cell_type": "code",
      "source": [
        "typo= {\"original_title\": \"str\",\"cast\":\"str\",\"director\": \"str\", \"tagline\": \"str\", \"keywords\": \"str\", \"overview\": \"str\", \"geners\": \"str\"}\n",
        "date_typo = ['release_date']\n",
        "df_new= pd.read_csv('tmdb-movies.csv', parse_dates= date_typo, dtype=typo)"
      ],
      "metadata": {
        "id": "6x6_w8d_xb1v"
      },
      "execution_count": 353,
      "outputs": []
    },
    {
      "cell_type": "markdown",
      "source": [
        "Time to choose which columns we should keep and which ones should be dropped."
      ],
      "metadata": {
        "id": "aOZyEO-FsqVB"
      }
    },
    {
      "cell_type": "code",
      "source": [
        "#creating a list of columb to be deleted\n",
        "del_col=[ 'id', 'imdb_id','cast', 'homepage', 'keywords', 'overview', 'production_companies','budget_adj', 'revenue_adj']\n",
        "#del_col=[ 'id', 'imdb_id', 'popularity', 'budget_adj', 'revenue_adj', 'homepage', 'keywords', 'overview', 'production_companies', 'vote_count', 'vote_average']\n",
        "#deleting the columns\n",
        "df_new= df_new.drop(del_col,1)"
      ],
      "metadata": {
        "colab": {
          "base_uri": "https://localhost:8080/"
        },
        "id": "OVnK2IXMVY02",
        "outputId": "e0d305a5-3d34-4dc7-f7b4-d0ed1f1b5e84"
      },
      "execution_count": 354,
      "outputs": [
        {
          "output_type": "stream",
          "name": "stderr",
          "text": [
            "/usr/local/lib/python3.7/dist-packages/ipykernel_launcher.py:5: FutureWarning:\n",
            "\n",
            "In a future version of pandas all arguments of DataFrame.drop except for the argument 'labels' will be keyword-only\n",
            "\n"
          ]
        }
      ]
    },
    {
      "cell_type": "markdown",
      "source": [
        "Let's define the shape of our dataset:"
      ],
      "metadata": {
        "id": "jFtrb3-jRCxW"
      }
    },
    {
      "cell_type": "code",
      "source": [
        "rw, cl = df_new.shape\n",
        "print('There are {} movies and {} attributes in it.'.format(rw-1, cl))"
      ],
      "metadata": {
        "colab": {
          "base_uri": "https://localhost:8080/"
        },
        "id": "qzDffPDd0NVB",
        "outputId": "a90c3010-7021-411d-b29e-1b994db1d050"
      },
      "execution_count": 355,
      "outputs": [
        {
          "output_type": "stream",
          "name": "stdout",
          "text": [
            "There are 10865 movies and 12 attributes in it.\n"
          ]
        }
      ]
    },
    {
      "cell_type": "markdown",
      "source": [
        "The duplicate rows inside your data could lead to wrong interpretation so we have to make sure that our data is free from duplicates."
      ],
      "metadata": {
        "id": "X24pzK0iRLcN"
      }
    },
    {
      "cell_type": "markdown",
      "source": [
        "Time to remove duplicates from our data:"
      ],
      "metadata": {
        "id": "djYFLkLfzbcZ"
      }
    },
    {
      "cell_type": "code",
      "source": [
        "df_new.drop_duplicates(keep ='first', inplace=True)"
      ],
      "metadata": {
        "id": "X5G5wdv1zkTR"
      },
      "execution_count": 356,
      "outputs": []
    },
    {
      "cell_type": "markdown",
      "source": [
        "Time to check the shape of our the data to know the duplication effect"
      ],
      "metadata": {
        "id": "fGKZsYlTzoa9"
      }
    },
    {
      "cell_type": "code",
      "source": [
        "rw, cl = df_new.shape\n",
        "print('After deleting duplicates, there are now {} movies and {} attributes in it.'.format(rw-1, cl))"
      ],
      "metadata": {
        "colab": {
          "base_uri": "https://localhost:8080/"
        },
        "id": "UFRy8Q3cY6WC",
        "outputId": "9aefc54b-ce65-4544-d38b-8d3e40bd8cec"
      },
      "execution_count": 357,
      "outputs": [
        {
          "output_type": "stream",
          "name": "stdout",
          "text": [
            "After deleting duplicates, there are now 10864 movies and 12 attributes in it.\n"
          ]
        }
      ]
    },
    {
      "cell_type": "markdown",
      "source": [
        "NA values will distribute our calculations functions so we have to make sure that our data is free from NA values before making our analysis "
      ],
      "metadata": {
        "id": "idM2F4yZRdvN"
      }
    },
    {
      "cell_type": "markdown",
      "source": [
        "let's show the number of NA values inside our data in each column"
      ],
      "metadata": {
        "id": "-PsvOpnY0vWv"
      }
    },
    {
      "cell_type": "code",
      "source": [
        "df_new.isna().sum()"
      ],
      "metadata": {
        "colab": {
          "base_uri": "https://localhost:8080/"
        },
        "id": "bklsOkuA3hQi",
        "outputId": "d75f8b76-61f2-41ab-ccb1-0a21751a86e7"
      },
      "execution_count": 358,
      "outputs": [
        {
          "output_type": "execute_result",
          "data": {
            "text/plain": [
              "popularity           0\n",
              "budget               0\n",
              "revenue              0\n",
              "original_title       0\n",
              "director            44\n",
              "tagline           2824\n",
              "runtime              0\n",
              "genres              23\n",
              "release_date         0\n",
              "vote_count           0\n",
              "vote_average         0\n",
              "release_year         0\n",
              "dtype: int64"
            ]
          },
          "metadata": {},
          "execution_count": 358
        }
      ]
    },
    {
      "cell_type": "markdown",
      "source": [
        "It is impossible to have a movie with a budget that equals zero so it is anonymous data.\n",
        "\n",
        "And achieving revenue of zero is impossible too.\n",
        "\n",
        "The best way to drop those rows is to replace the value with NA value and that will be easy to drop.na function."
      ],
      "metadata": {
        "id": "oQtPRpgcR9dN"
      }
    },
    {
      "cell_type": "code",
      "source": [
        "# creating a seperate list of revenue and budget column\n",
        "zerov_rows=['budget', 'revenue']\n",
        "\n",
        "#this will replace all the value from '0' to NAN in the list\n",
        "df_new[zerov_rows] = df_new[zerov_rows].replace(0, np.NAN)"
      ],
      "metadata": {
        "id": "7BY10Tum2KYf"
      },
      "execution_count": 359,
      "outputs": []
    },
    {
      "cell_type": "markdown",
      "source": [
        "let's check if our trick played its role and turned zero values into NA values "
      ],
      "metadata": {
        "id": "FqOjZB8WSn0-"
      }
    },
    {
      "cell_type": "code",
      "source": [
        "df_new.isna().sum()"
      ],
      "metadata": {
        "id": "TOA1bNpS4bDm",
        "colab": {
          "base_uri": "https://localhost:8080/"
        },
        "outputId": "eae48bfd-2887-4b74-e54d-342e957f3e02"
      },
      "execution_count": 360,
      "outputs": [
        {
          "output_type": "execute_result",
          "data": {
            "text/plain": [
              "popularity           0\n",
              "budget            5696\n",
              "revenue           6016\n",
              "original_title       0\n",
              "director            44\n",
              "tagline           2824\n",
              "runtime              0\n",
              "genres              23\n",
              "release_date         0\n",
              "vote_count           0\n",
              "vote_average         0\n",
              "release_year         0\n",
              "dtype: int64"
            ]
          },
          "metadata": {},
          "execution_count": 360
        }
      ]
    },
    {
      "cell_type": "markdown",
      "source": [
        "well done, time to remove NA values "
      ],
      "metadata": {
        "id": "WM0QoYi3S2Yn"
      }
    },
    {
      "cell_type": "code",
      "source": [
        "#Removing all the row which has NaN value in temp_list \n",
        "na_rows=['budget', 'revenue','director','tagline','genres']\n",
        "df_new.dropna(subset = na_rows, inplace = True)"
      ],
      "metadata": {
        "id": "Q7afahTF0z45"
      },
      "execution_count": 361,
      "outputs": []
    },
    {
      "cell_type": "markdown",
      "source": [
        "let's check the shape of your data now after cleaning it."
      ],
      "metadata": {
        "id": "oKRjwE8vS-AU"
      }
    },
    {
      "cell_type": "code",
      "source": [
        "rw, cl = df_new.shape\n",
        "print('After cleaning our data, there are now {} movies and {} attributes in it.'.format(rw-1, cl))"
      ],
      "metadata": {
        "colab": {
          "base_uri": "https://localhost:8080/"
        },
        "id": "4kgfUgNH4q9S",
        "outputId": "3c5b10f7-a501-43a2-b060-a7306931d0b3"
      },
      "execution_count": 362,
      "outputs": [
        {
          "output_type": "stream",
          "name": "stdout",
          "text": [
            "After cleaning our data, there are now 3573 movies and 12 attributes in it.\n"
          ]
        }
      ]
    },
    {
      "cell_type": "markdown",
      "source": [
        "#**EDA.Exploratory data analysis:**"
      ],
      "metadata": {
        "id": "1v_q1PTuv1LI"
      }
    },
    {
      "cell_type": "code",
      "source": [
        "df_new.head()"
      ],
      "metadata": {
        "colab": {
          "base_uri": "https://localhost:8080/",
          "height": 250
        },
        "id": "7fToplT4wIl0",
        "outputId": "addf16f6-84a6-4ce3-e6cb-d0f0d8668dbf"
      },
      "execution_count": 363,
      "outputs": [
        {
          "output_type": "execute_result",
          "data": {
            "text/html": [
              "\n",
              "  <div id=\"df-8bca907f-72ec-4f2e-bc7c-812e69421c5b\">\n",
              "    <div class=\"colab-df-container\">\n",
              "      <div>\n",
              "<style scoped>\n",
              "    .dataframe tbody tr th:only-of-type {\n",
              "        vertical-align: middle;\n",
              "    }\n",
              "\n",
              "    .dataframe tbody tr th {\n",
              "        vertical-align: top;\n",
              "    }\n",
              "\n",
              "    .dataframe thead th {\n",
              "        text-align: right;\n",
              "    }\n",
              "</style>\n",
              "<table border=\"1\" class=\"dataframe\">\n",
              "  <thead>\n",
              "    <tr style=\"text-align: right;\">\n",
              "      <th></th>\n",
              "      <th>popularity</th>\n",
              "      <th>budget</th>\n",
              "      <th>revenue</th>\n",
              "      <th>original_title</th>\n",
              "      <th>director</th>\n",
              "      <th>tagline</th>\n",
              "      <th>runtime</th>\n",
              "      <th>genres</th>\n",
              "      <th>release_date</th>\n",
              "      <th>vote_count</th>\n",
              "      <th>vote_average</th>\n",
              "      <th>release_year</th>\n",
              "    </tr>\n",
              "  </thead>\n",
              "  <tbody>\n",
              "    <tr>\n",
              "      <th>0</th>\n",
              "      <td>32.985763</td>\n",
              "      <td>150000000.0</td>\n",
              "      <td>1.513529e+09</td>\n",
              "      <td>Jurassic World</td>\n",
              "      <td>Colin Trevorrow</td>\n",
              "      <td>The park is open.</td>\n",
              "      <td>124</td>\n",
              "      <td>Action|Adventure|Science Fiction|Thriller</td>\n",
              "      <td>2015-06-09</td>\n",
              "      <td>5562</td>\n",
              "      <td>6.5</td>\n",
              "      <td>2015</td>\n",
              "    </tr>\n",
              "    <tr>\n",
              "      <th>1</th>\n",
              "      <td>28.419936</td>\n",
              "      <td>150000000.0</td>\n",
              "      <td>3.784364e+08</td>\n",
              "      <td>Mad Max: Fury Road</td>\n",
              "      <td>George Miller</td>\n",
              "      <td>What a Lovely Day.</td>\n",
              "      <td>120</td>\n",
              "      <td>Action|Adventure|Science Fiction|Thriller</td>\n",
              "      <td>2015-05-13</td>\n",
              "      <td>6185</td>\n",
              "      <td>7.1</td>\n",
              "      <td>2015</td>\n",
              "    </tr>\n",
              "    <tr>\n",
              "      <th>2</th>\n",
              "      <td>13.112507</td>\n",
              "      <td>110000000.0</td>\n",
              "      <td>2.952382e+08</td>\n",
              "      <td>Insurgent</td>\n",
              "      <td>Robert Schwentke</td>\n",
              "      <td>One Choice Can Destroy You</td>\n",
              "      <td>119</td>\n",
              "      <td>Adventure|Science Fiction|Thriller</td>\n",
              "      <td>2015-03-18</td>\n",
              "      <td>2480</td>\n",
              "      <td>6.3</td>\n",
              "      <td>2015</td>\n",
              "    </tr>\n",
              "    <tr>\n",
              "      <th>3</th>\n",
              "      <td>11.173104</td>\n",
              "      <td>200000000.0</td>\n",
              "      <td>2.068178e+09</td>\n",
              "      <td>Star Wars: The Force Awakens</td>\n",
              "      <td>J.J. Abrams</td>\n",
              "      <td>Every generation has a story.</td>\n",
              "      <td>136</td>\n",
              "      <td>Action|Adventure|Science Fiction|Fantasy</td>\n",
              "      <td>2015-12-15</td>\n",
              "      <td>5292</td>\n",
              "      <td>7.5</td>\n",
              "      <td>2015</td>\n",
              "    </tr>\n",
              "    <tr>\n",
              "      <th>4</th>\n",
              "      <td>9.335014</td>\n",
              "      <td>190000000.0</td>\n",
              "      <td>1.506249e+09</td>\n",
              "      <td>Furious 7</td>\n",
              "      <td>James Wan</td>\n",
              "      <td>Vengeance Hits Home</td>\n",
              "      <td>137</td>\n",
              "      <td>Action|Crime|Thriller</td>\n",
              "      <td>2015-04-01</td>\n",
              "      <td>2947</td>\n",
              "      <td>7.3</td>\n",
              "      <td>2015</td>\n",
              "    </tr>\n",
              "  </tbody>\n",
              "</table>\n",
              "</div>\n",
              "      <button class=\"colab-df-convert\" onclick=\"convertToInteractive('df-8bca907f-72ec-4f2e-bc7c-812e69421c5b')\"\n",
              "              title=\"Convert this dataframe to an interactive table.\"\n",
              "              style=\"display:none;\">\n",
              "        \n",
              "  <svg xmlns=\"http://www.w3.org/2000/svg\" height=\"24px\"viewBox=\"0 0 24 24\"\n",
              "       width=\"24px\">\n",
              "    <path d=\"M0 0h24v24H0V0z\" fill=\"none\"/>\n",
              "    <path d=\"M18.56 5.44l.94 2.06.94-2.06 2.06-.94-2.06-.94-.94-2.06-.94 2.06-2.06.94zm-11 1L8.5 8.5l.94-2.06 2.06-.94-2.06-.94L8.5 2.5l-.94 2.06-2.06.94zm10 10l.94 2.06.94-2.06 2.06-.94-2.06-.94-.94-2.06-.94 2.06-2.06.94z\"/><path d=\"M17.41 7.96l-1.37-1.37c-.4-.4-.92-.59-1.43-.59-.52 0-1.04.2-1.43.59L10.3 9.45l-7.72 7.72c-.78.78-.78 2.05 0 2.83L4 21.41c.39.39.9.59 1.41.59.51 0 1.02-.2 1.41-.59l7.78-7.78 2.81-2.81c.8-.78.8-2.07 0-2.86zM5.41 20L4 18.59l7.72-7.72 1.47 1.35L5.41 20z\"/>\n",
              "  </svg>\n",
              "      </button>\n",
              "      \n",
              "  <style>\n",
              "    .colab-df-container {\n",
              "      display:flex;\n",
              "      flex-wrap:wrap;\n",
              "      gap: 12px;\n",
              "    }\n",
              "\n",
              "    .colab-df-convert {\n",
              "      background-color: #E8F0FE;\n",
              "      border: none;\n",
              "      border-radius: 50%;\n",
              "      cursor: pointer;\n",
              "      display: none;\n",
              "      fill: #1967D2;\n",
              "      height: 32px;\n",
              "      padding: 0 0 0 0;\n",
              "      width: 32px;\n",
              "    }\n",
              "\n",
              "    .colab-df-convert:hover {\n",
              "      background-color: #E2EBFA;\n",
              "      box-shadow: 0px 1px 2px rgba(60, 64, 67, 0.3), 0px 1px 3px 1px rgba(60, 64, 67, 0.15);\n",
              "      fill: #174EA6;\n",
              "    }\n",
              "\n",
              "    [theme=dark] .colab-df-convert {\n",
              "      background-color: #3B4455;\n",
              "      fill: #D2E3FC;\n",
              "    }\n",
              "\n",
              "    [theme=dark] .colab-df-convert:hover {\n",
              "      background-color: #434B5C;\n",
              "      box-shadow: 0px 1px 3px 1px rgba(0, 0, 0, 0.15);\n",
              "      filter: drop-shadow(0px 1px 2px rgba(0, 0, 0, 0.3));\n",
              "      fill: #FFFFFF;\n",
              "    }\n",
              "  </style>\n",
              "\n",
              "      <script>\n",
              "        const buttonEl =\n",
              "          document.querySelector('#df-8bca907f-72ec-4f2e-bc7c-812e69421c5b button.colab-df-convert');\n",
              "        buttonEl.style.display =\n",
              "          google.colab.kernel.accessAllowed ? 'block' : 'none';\n",
              "\n",
              "        async function convertToInteractive(key) {\n",
              "          const element = document.querySelector('#df-8bca907f-72ec-4f2e-bc7c-812e69421c5b');\n",
              "          const dataTable =\n",
              "            await google.colab.kernel.invokeFunction('convertToInteractive',\n",
              "                                                     [key], {});\n",
              "          if (!dataTable) return;\n",
              "\n",
              "          const docLinkHtml = 'Like what you see? Visit the ' +\n",
              "            '<a target=\"_blank\" href=https://colab.research.google.com/notebooks/data_table.ipynb>data table notebook</a>'\n",
              "            + ' to learn more about interactive tables.';\n",
              "          element.innerHTML = '';\n",
              "          dataTable['output_type'] = 'display_data';\n",
              "          await google.colab.output.renderOutput(dataTable, element);\n",
              "          const docLink = document.createElement('div');\n",
              "          docLink.innerHTML = docLinkHtml;\n",
              "          element.appendChild(docLink);\n",
              "        }\n",
              "      </script>\n",
              "    </div>\n",
              "  </div>\n",
              "  "
            ],
            "text/plain": [
              "   popularity       budget  ...  vote_average release_year\n",
              "0   32.985763  150000000.0  ...           6.5         2015\n",
              "1   28.419936  150000000.0  ...           7.1         2015\n",
              "2   13.112507  110000000.0  ...           6.3         2015\n",
              "3   11.173104  200000000.0  ...           7.5         2015\n",
              "4    9.335014  190000000.0  ...           7.3         2015\n",
              "\n",
              "[5 rows x 12 columns]"
            ]
          },
          "metadata": {},
          "execution_count": 363
        }
      ]
    },
    {
      "cell_type": "markdown",
      "source": [
        "  > ###  Q1: Which genres are most popular from year to year?"
      ],
      "metadata": {
        "id": "ekhUBmVZwI2b"
      }
    },
    {
      "cell_type": "code",
      "source": [
        "def dfrelation(x,y):\n",
        "  dfrelt = pd.DataFrame(df_new.groupby(x)[y].sum())\n",
        "  dfrelt.sort_values(y, ascending=False, inplace=True)\n",
        "  fig= dfrelt.head(6).plot(kind='bar')\n",
        "  plt.xticks(rotation= 45)\n",
        "  plt.xlabel(str.title(x), size=15)\n",
        "  plt.ylabel(str.title(y), size=15)\n",
        "  plt.title('{} and {}'.format(str.title(x),str.title(y), size=20))\n",
        "\n",
        "  return dfrelt\n"
      ],
      "metadata": {
        "id": "T8pfonfGTTAt"
      },
      "execution_count": 393,
      "outputs": []
    },
    {
      "cell_type": "code",
      "source": [
        "genres_popularity = dfrelation('genres','popularity')"
      ],
      "metadata": {
        "colab": {
          "base_uri": "https://localhost:8080/",
          "height": 441
        },
        "id": "aaX4Re8cwwPk",
        "outputId": "fbe2222d-0341-4b8d-8f5e-2a146a5d9aa8"
      },
      "execution_count": 394,
      "outputs": [
        {
          "output_type": "display_data",
          "data": {
            "image/png": "[encoded data removed]",
            "text/plain": [
              "<Figure size 432x288 with 1 Axes>"
            ]
          },
          "metadata": {
            "needs_background": "light"
          }
        }
      ]
    },
    {
      "cell_type": "markdown",
      "source": [
        " > ### We have to calcualte the profit of each movie, \n",
        " > ### Q2: let's calculate profits:\n"
      ],
      "metadata": {
        "id": "_8jZuh-NKVN8"
      }
    },
    {
      "cell_type": "markdown",
      "source": [
        "We can cacluate the profits by substracting the budget from revenue "
      ],
      "metadata": {
        "id": "knKnWHHimgWo"
      }
    },
    {
      "cell_type": "code",
      "source": [
        "df_new['Profit']= df_new['revenue'] - df_new['budget']"
      ],
      "metadata": {
        "id": "LcJpglTMKefM"
      },
      "execution_count": 395,
      "outputs": []
    },
    {
      "cell_type": "markdown",
      "source": [
        " > ### Q3: Which genres returns the most profits?\n",
        " > #### let's make a hypothy that the result will be like the last results, don't rush until we make sure"
      ],
      "metadata": {
        "id": "x1_Cn8CqGIs3"
      }
    },
    {
      "cell_type": "code",
      "source": [
        "genres_profits= dfrelation('genres','Profit')"
      ],
      "metadata": {
        "colab": {
          "base_uri": "https://localhost:8080/",
          "height": 414
        },
        "id": "cC6q2JOQ52az",
        "outputId": "124167e0-9525-4600-a0ff-3fb44b7bf318"
      },
      "execution_count": 396,
      "outputs": [
        {
          "output_type": "display_data",
          "data": {
            "image/png": "[encoded data removed]",
            "text/plain": [
              "<Figure size 432x288 with 1 Axes>"
            ]
          },
          "metadata": {
            "needs_background": "light"
          }
        }
      ]
    },
    {
      "cell_type": "code",
      "source": [
        "print(\"The highest profits achieved by {} and the lowest profits achieved by {}\".format(df_new.groupby('genres')['Profit'].sum().idxmax(),df_new.groupby('genres')['Profit'].sum().idxmin()))"
      ],
      "metadata": {
        "colab": {
          "base_uri": "https://localhost:8080/"
        },
        "id": "wtRieY06lJyV",
        "outputId": "3daad15f-b1bd-4509-f3e1-66fa3623ebc9"
      },
      "execution_count": 397,
      "outputs": [
        {
          "output_type": "stream",
          "name": "stdout",
          "text": [
            "The highest profits achieved by Comedy and the lowest profits achieved by Adventure|Fantasy|Action|Western|Thriller\n"
          ]
        }
      ]
    },
    {
      "cell_type": "markdown",
      "source": [
        "  > ### **Q4**: Are movies with high profits are the same with high reveneu?"
      ],
      "metadata": {
        "id": "hsx4DS3PM5xk"
      }
    },
    {
      "cell_type": "code",
      "source": [
        "genres_revenue= dfrelation('genres','revenue')\n"
      ],
      "metadata": {
        "colab": {
          "base_uri": "https://localhost:8080/",
          "height": 414
        },
        "id": "jVp_IHP9NJkW",
        "outputId": "4b07bdb1-5e06-4c3c-ba1b-0b0fc4fb163b"
      },
      "execution_count": 398,
      "outputs": [
        {
          "output_type": "display_data",
          "data": {
            "image/png": "[encoded data removed]",
            "text/plain": [
              "<Figure size 432x288 with 1 Axes>"
            ]
          },
          "metadata": {
            "needs_background": "light"
          }
        }
      ]
    },
    {
      "cell_type": "markdown",
      "source": [
        "Well, it is not completly true\n",
        "\n",
        "we can notice differences in movies order "
      ],
      "metadata": {
        "id": "efz5BlCKm2ra"
      }
    },
    {
      "cell_type": "code",
      "source": [
        "print(\"The highest revenue acquired by {} and the lowest revenue acquired by {}\".format(df_new.groupby('genres')['revenue'].sum().idxmax(),df_new.groupby('genres')['revenue'].sum().idxmin()))"
      ],
      "metadata": {
        "colab": {
          "base_uri": "https://localhost:8080/"
        },
        "id": "mkhlw-fdm0ts",
        "outputId": "4b9b14db-57c4-4899-b697-fbe8b0cf3093"
      },
      "execution_count": 372,
      "outputs": [
        {
          "output_type": "stream",
          "name": "stdout",
          "text": [
            "The highest revenue acquired by Comedy and the lowest revenue acquired by Adventure|Action|Comedy|Science Fiction|Music\n"
          ]
        }
      ]
    },
    {
      "cell_type": "markdown",
      "source": [
        " > ### Q5: let's get an info about the average runtime of movies:"
      ],
      "metadata": {
        "id": "g5QT7u1_wnO4"
      }
    },
    {
      "cell_type": "code",
      "source": [
        "df_new.head(1)"
      ],
      "metadata": {
        "colab": {
          "base_uri": "https://localhost:8080/",
          "height": 81
        },
        "id": "xEptJgoTww6O",
        "outputId": "3e3906ff-3e56-4c01-ab09-9aa48f3e9d44"
      },
      "execution_count": 373,
      "outputs": [
        {
          "output_type": "execute_result",
          "data": {
            "text/html": [
              "\n",
              "  <div id=\"df-a586cc2a-b049-4655-bf70-bc8c6d44e087\">\n",
              "    <div class=\"colab-df-container\">\n",
              "      <div>\n",
              "<style scoped>\n",
              "    .dataframe tbody tr th:only-of-type {\n",
              "        vertical-align: middle;\n",
              "    }\n",
              "\n",
              "    .dataframe tbody tr th {\n",
              "        vertical-align: top;\n",
              "    }\n",
              "\n",
              "    .dataframe thead th {\n",
              "        text-align: right;\n",
              "    }\n",
              "</style>\n",
              "<table border=\"1\" class=\"dataframe\">\n",
              "  <thead>\n",
              "    <tr style=\"text-align: right;\">\n",
              "      <th></th>\n",
              "      <th>popularity</th>\n",
              "      <th>budget</th>\n",
              "      <th>revenue</th>\n",
              "      <th>original_title</th>\n",
              "      <th>director</th>\n",
              "      <th>tagline</th>\n",
              "      <th>runtime</th>\n",
              "      <th>genres</th>\n",
              "      <th>release_date</th>\n",
              "      <th>vote_count</th>\n",
              "      <th>vote_average</th>\n",
              "      <th>release_year</th>\n",
              "      <th>Profit</th>\n",
              "    </tr>\n",
              "  </thead>\n",
              "  <tbody>\n",
              "    <tr>\n",
              "      <th>0</th>\n",
              "      <td>32.985763</td>\n",
              "      <td>150000000.0</td>\n",
              "      <td>1.513529e+09</td>\n",
              "      <td>Jurassic World</td>\n",
              "      <td>Colin Trevorrow</td>\n",
              "      <td>The park is open.</td>\n",
              "      <td>124</td>\n",
              "      <td>Action|Adventure|Science Fiction|Thriller</td>\n",
              "      <td>2015-06-09</td>\n",
              "      <td>5562</td>\n",
              "      <td>6.5</td>\n",
              "      <td>2015</td>\n",
              "      <td>1.363529e+09</td>\n",
              "    </tr>\n",
              "  </tbody>\n",
              "</table>\n",
              "</div>\n",
              "      <button class=\"colab-df-convert\" onclick=\"convertToInteractive('df-a586cc2a-b049-4655-bf70-bc8c6d44e087')\"\n",
              "              title=\"Convert this dataframe to an interactive table.\"\n",
              "              style=\"display:none;\">\n",
              "        \n",
              "  <svg xmlns=\"http://www.w3.org/2000/svg\" height=\"24px\"viewBox=\"0 0 24 24\"\n",
              "       width=\"24px\">\n",
              "    <path d=\"M0 0h24v24H0V0z\" fill=\"none\"/>\n",
              "    <path d=\"M18.56 5.44l.94 2.06.94-2.06 2.06-.94-2.06-.94-.94-2.06-.94 2.06-2.06.94zm-11 1L8.5 8.5l.94-2.06 2.06-.94-2.06-.94L8.5 2.5l-.94 2.06-2.06.94zm10 10l.94 2.06.94-2.06 2.06-.94-2.06-.94-.94-2.06-.94 2.06-2.06.94z\"/><path d=\"M17.41 7.96l-1.37-1.37c-.4-.4-.92-.59-1.43-.59-.52 0-1.04.2-1.43.59L10.3 9.45l-7.72 7.72c-.78.78-.78 2.05 0 2.83L4 21.41c.39.39.9.59 1.41.59.51 0 1.02-.2 1.41-.59l7.78-7.78 2.81-2.81c.8-.78.8-2.07 0-2.86zM5.41 20L4 18.59l7.72-7.72 1.47 1.35L5.41 20z\"/>\n",
              "  </svg>\n",
              "      </button>\n",
              "      \n",
              "  <style>\n",
              "    .colab-df-container {\n",
              "      display:flex;\n",
              "      flex-wrap:wrap;\n",
              "      gap: 12px;\n",
              "    }\n",
              "\n",
              "    .colab-df-convert {\n",
              "      background-color: #E8F0FE;\n",
              "      border: none;\n",
              "      border-radius: 50%;\n",
              "      cursor: pointer;\n",
              "      display: none;\n",
              "      fill: #1967D2;\n",
              "      height: 32px;\n",
              "      padding: 0 0 0 0;\n",
              "      width: 32px;\n",
              "    }\n",
              "\n",
              "    .colab-df-convert:hover {\n",
              "      background-color: #E2EBFA;\n",
              "      box-shadow: 0px 1px 2px rgba(60, 64, 67, 0.3), 0px 1px 3px 1px rgba(60, 64, 67, 0.15);\n",
              "      fill: #174EA6;\n",
              "    }\n",
              "\n",
              "    [theme=dark] .colab-df-convert {\n",
              "      background-color: #3B4455;\n",
              "      fill: #D2E3FC;\n",
              "    }\n",
              "\n",
              "    [theme=dark] .colab-df-convert:hover {\n",
              "      background-color: #434B5C;\n",
              "      box-shadow: 0px 1px 3px 1px rgba(0, 0, 0, 0.15);\n",
              "      filter: drop-shadow(0px 1px 2px rgba(0, 0, 0, 0.3));\n",
              "      fill: #FFFFFF;\n",
              "    }\n",
              "  </style>\n",
              "\n",
              "      <script>\n",
              "        const buttonEl =\n",
              "          document.querySelector('#df-a586cc2a-b049-4655-bf70-bc8c6d44e087 button.colab-df-convert');\n",
              "        buttonEl.style.display =\n",
              "          google.colab.kernel.accessAllowed ? 'block' : 'none';\n",
              "\n",
              "        async function convertToInteractive(key) {\n",
              "          const element = document.querySelector('#df-a586cc2a-b049-4655-bf70-bc8c6d44e087');\n",
              "          const dataTable =\n",
              "            await google.colab.kernel.invokeFunction('convertToInteractive',\n",
              "                                                     [key], {});\n",
              "          if (!dataTable) return;\n",
              "\n",
              "          const docLinkHtml = 'Like what you see? Visit the ' +\n",
              "            '<a target=\"_blank\" href=https://colab.research.google.com/notebooks/data_table.ipynb>data table notebook</a>'\n",
              "            + ' to learn more about interactive tables.';\n",
              "          element.innerHTML = '';\n",
              "          dataTable['output_type'] = 'display_data';\n",
              "          await google.colab.output.renderOutput(dataTable, element);\n",
              "          const docLink = document.createElement('div');\n",
              "          docLink.innerHTML = docLinkHtml;\n",
              "          element.appendChild(docLink);\n",
              "        }\n",
              "      </script>\n",
              "    </div>\n",
              "  </div>\n",
              "  "
            ],
            "text/plain": [
              "   popularity       budget  ...  release_year        Profit\n",
              "0   32.985763  150000000.0  ...          2015  1.363529e+09\n",
              "\n",
              "[1 rows x 13 columns]"
            ]
          },
          "metadata": {},
          "execution_count": 373
        }
      ]
    },
    {
      "cell_type": "code",
      "source": [
        "print (\"The average runtime of movies om TMDB is {} minutes\".format(round(df_new['runtime'].mean(),2)))"
      ],
      "metadata": {
        "colab": {
          "base_uri": "https://localhost:8080/"
        },
        "id": "0Auvvat9ahdg",
        "outputId": "328c1f42-43b4-4445-e346-673138f53433"
      },
      "execution_count": 374,
      "outputs": [
        {
          "output_type": "stream",
          "name": "stdout",
          "text": [
            "The average runtime of movies om TMDB is 109.11 minutes\n"
          ]
        }
      ]
    },
    {
      "cell_type": "code",
      "source": [
        "fig= sns.swarmplot(df_new[\"runtime\"], color = 'blue')\n",
        "fig.set(xlabel=\"Time (minutes)\",ylabel= \" \")\n"
      ],
      "metadata": {
        "colab": {
          "base_uri": "https://localhost:8080/",
          "height": 468
        },
        "id": "rpj9SKaCaskw",
        "outputId": "5afee976-617f-46ad-80ac-27ca2bdf515c"
      },
      "execution_count": 375,
      "outputs": [
        {
          "output_type": "stream",
          "name": "stderr",
          "text": [
            "/usr/local/lib/python3.7/dist-packages/seaborn/_decorators.py:43: FutureWarning:\n",
            "\n",
            "Pass the following variable as a keyword arg: x. From version 0.12, the only valid positional argument will be `data`, and passing other arguments without an explicit keyword will result in an error or misinterpretation.\n",
            "\n",
            "/usr/local/lib/python3.7/dist-packages/seaborn/categorical.py:1296: UserWarning:\n",
            "\n",
            "82.4% of the points cannot be placed; you may want to decrease the size of the markers or use stripplot.\n",
            "\n"
          ]
        },
        {
          "output_type": "execute_result",
          "data": {
            "text/plain": [
              "[Text(0, 0.5, ' '), Text(0.5, 0, 'Time (minutes)')]"
            ]
          },
          "metadata": {},
          "execution_count": 375
        },
        {
          "output_type": "display_data",
          "data": {
            "image/png": "[encoded data removed]",
            "text/plain": [
              "<Figure size 432x288 with 1 Axes>"
            ]
          },
          "metadata": {
            "needs_background": "light"
          }
        }
      ]
    },
    {
      "cell_type": "code",
      "source": [
        "g1= sns.catplot(data=df_new, y=\"runtime\", kind='box')\n",
        "g1.set(xlabel=\"\",ylabel= \"Time (minutes)\")"
      ],
      "metadata": {
        "colab": {
          "base_uri": "https://localhost:8080/",
          "height": 388
        },
        "id": "RgpLhXqrbb-g",
        "outputId": "cf583b74-53e5-4202-9115-44ef55678060"
      },
      "execution_count": 376,
      "outputs": [
        {
          "output_type": "execute_result",
          "data": {
            "text/plain": [
              "<seaborn.axisgrid.FacetGrid at 0x7fd9d48a8e90>"
            ]
          },
          "metadata": {},
          "execution_count": 376
        },
        {
          "output_type": "display_data",
          "data": {
            "image/png": "[encoded data removed]",
            "text/plain": [
              "<Figure size 360x360 with 1 Axes>"
            ]
          },
          "metadata": {
            "needs_background": "light"
          }
        }
      ]
    },
    {
      "cell_type": "code",
      "source": [
        "print(\"The longest movie on TMBD is {} minutes and the shortest movie on TMBD is {} minutes\".format(df_new[\"runtime\"].max(),df_new.runtime.min()))"
      ],
      "metadata": {
        "colab": {
          "base_uri": "https://localhost:8080/"
        },
        "id": "TI0UdphVtni0",
        "outputId": "704191a8-ebfb-40ba-b1bf-a2751be29698"
      },
      "execution_count": 377,
      "outputs": [
        {
          "output_type": "stream",
          "name": "stdout",
          "text": [
            "The longest movie on TMBD is 338 minutes and the shortest movie on TMBD is 26 minutes\n"
          ]
        }
      ]
    },
    {
      "cell_type": "markdown",
      "source": [
        " >  ### Q6: let's see if there is a realtion between profits and releasing year:\n"
      ],
      "metadata": {
        "id": "ddYY5OaDdEoH"
      }
    },
    {
      "cell_type": "code",
      "source": [
        "plt.figure(figsize=(12,6), dpi = 130)\n",
        "df_new.groupby('release_year')['Profit'].sum().plot(kind='line')\n",
        "plt.xlabel('Releasing Year', size=15)\n",
        "plt.ylabel(\"Profits'$'\",size=15)\n",
        "plt.title('Profits and Releasing Year')"
      ],
      "metadata": {
        "colab": {
          "base_uri": "https://localhost:8080/",
          "height": 741
        },
        "id": "XpB9zyZycfVW",
        "outputId": "b90db705-f329-4de0-d245-60eb5bbd8f5c"
      },
      "execution_count": 378,
      "outputs": [
        {
          "output_type": "execute_result",
          "data": {
            "text/plain": [
              "Text(0.5, 1.0, 'Profits and Releasing Year')"
            ]
          },
          "metadata": {},
          "execution_count": 378
        },
        {
          "output_type": "display_data",
          "data": {
            "image/png": "[encoded data removed]",
            "text/plain": [
              "<Figure size 1560x780 with 1 Axes>"
            ]
          },
          "metadata": {
            "needs_background": "light"
          }
        }
      ]
    },
    {
      "cell_type": "code",
      "source": [
        "print(\"The highest profits achieved in {} and the lowest profits achieved in {}\".format(df_new.groupby('release_year')['Profit'].sum().idxmax(),df_new.groupby('release_year')['Profit'].sum().idxmin()))"
      ],
      "metadata": {
        "colab": {
          "base_uri": "https://localhost:8080/"
        },
        "id": "RfKbEDnYu8F8",
        "outputId": "b70c9f18-fb3c-4112-e95d-c0f1ba578427"
      },
      "execution_count": 379,
      "outputs": [
        {
          "output_type": "stream",
          "name": "stdout",
          "text": [
            "The highest profits achieved in 2015 and the lowest profits achieved in 1966\n"
          ]
        }
      ]
    },
    {
      "cell_type": "markdown",
      "source": [
        "<a id='conclusions'></a>\n",
        "## Conclusions\n",
        "\n",
        "\n",
        "*   The most sucessful movie genre is: Action, Adventure, Thriller, Comedy Drama.\n",
        "*   The average runtime for a suceesful movie is 113 minutes.\n",
        "*   One of those actors list [Tom Cruise, Brad Pitt, Tom Hanks, Sylvester Stallone, Cameron Diaz]cause a noticeable increase in revenue.\n",
        "*   The average popularity of movies is 0.64 and the average vote is 5.97\n",
        "\n",
        "\n",
        "<a id='conclusions'></a>\n",
        "## Conclusions \n",
        "\n",
        "Limitations: \n",
        "\n",
        "*   The data collected in that dataset was about movies that have a runtime between 338 and 26 minutes with a 1.462570e+07 budget and I don't know the currency because it is highly expected for this data to be collected from different countries.\n",
        "\n",
        "*   Besides I am not completely sure that the data provided to us is completely correct and up-to-date. "
      ],
      "metadata": {
        "id": "e7S4fmL_8fV_"
      }
    },
    {
      "cell_type": "code",
      "source": [
        "from subprocess import call\n",
        "call(['python', '-m', 'nbconvert', 'Investigate_a_Dataset.ipynb'])"
      ],
      "metadata": {
        "colab": {
          "base_uri": "https://localhost:8080/"
        },
        "id": "Igrs40Tu8z0F",
        "outputId": "ed107f41-1b6e-4d8c-b10e-e5e284a1c22b"
      },
      "execution_count": 380,
      "outputs": [
        {
          "output_type": "execute_result",
          "data": {
            "text/plain": [
              "255"
            ]
          },
          "metadata": {},
          "execution_count": 380
        }
      ]
    }
  ]
}